{
  "nbformat": 4,
  "nbformat_minor": 0,
  "metadata": {
    "colab": {
      "name": "Improving quality by Pillow.ipynb",
      "version": "0.3.2",
      "provenance": [],
      "toc_visible": true,
      "include_colab_link": true
    },
    "kernelspec": {
      "name": "python3",
      "display_name": "Python 3"
    }
  },
  "cells": [
    {
      "cell_type": "markdown",
      "metadata": {
        "id": "view-in-github",
        "colab_type": "text"
      },
      "source": [
        "<a href=\"https://colab.research.google.com/github/Prabhakar002/Image-Processing/blob/master/Improving_quality_by_Pillow.ipynb\" target=\"_parent\"><img src=\"https://colab.research.google.com/assets/colab-badge.svg\" alt=\"Open In Colab\"/></a>"
      ]
    },
    {
      "cell_type": "markdown",
      "metadata": {
        "id": "mFC11DTpZ2JR",
        "colab_type": "text"
      },
      "source": [
        "Improving the Quality of Image espacially when the port of the image is croped from a small image or is blurred. This method applied only to balack and white images or numbers.\n",
        "\n",
        "Increasing the quality of blurred numbers or extract text information by using [Pillow](https://) Library."
      ]
    },
    {
      "cell_type": "markdown",
      "metadata": {
        "id": "iuPlC3nsbtQv",
        "colab_type": "text"
      },
      "source": [
        "# Importing package and image"
      ]
    },
    {
      "cell_type": "code",
      "metadata": {
        "id": "Fl-EmUggdbmj",
        "colab_type": "code",
        "colab": {}
      },
      "source": [
        "from PIL import Image\n",
        "\n",
        "black = (0,0,0)\n",
        "white = (255,255,255)\n",
        "threshold = (160,160,160)\n",
        "\n",
        "# Open input image in grayscale mode and get its pixels.\n",
        "img = Image.open(\"Number.jpg\").convert(\"LA\")\n",
        "pixels = img.getdata()\n",
        "\n",
        "newPixels = []\n",
        "\n",
        "# Compare each pixel \n",
        "for pixel in pixels:\n",
        "    if pixel < threshold:\n",
        "        newPixels.append(black)\n",
        "    else:\n",
        "        newPixels.append(white)\n",
        "\n",
        "# Create and save new image.\n",
        "newImg = Image.new(\"RGB\",img.size)\n",
        "newImg.putdata(newPixels)\n",
        "newImg.save(\"newImage.jpg\")"
      ],
      "execution_count": 0,
      "outputs": []
    },
    {
      "cell_type": "code",
      "metadata": {
        "id": "sShTXgPPfjnn",
        "colab_type": "code",
        "colab": {
          "base_uri": "https://localhost:8080/",
          "height": 170
        },
        "outputId": "4f458d67-7f14-43d9-f92b-0cd8750e5bf0"
      },
      "source": [
        "from IPython.display import Image\n",
        "Image('newImage.jpg')"
      ],
      "execution_count": 17,
      "outputs": [
        {
          "output_type": "execute_result",
          "data": {
            "image/jpeg": "[encoded data removed]",
            "text/plain": [
              "<IPython.core.display.Image object>"
            ]
          },
          "metadata": {
            "tags": []
          },
          "execution_count": 17
        }
      ]
    },
    {
      "cell_type": "markdown",
      "metadata": {
        "id": "QHl0XvTrgDfS",
        "colab_type": "text"
      },
      "source": [
        "## And then remove the dots in the image by morphological opening operation. However, this will only work for spots smaller than the linethickness of the numbers in your image. Another option is to remove 'islands' of less than N pixels using the openCV connected components module."
      ]
    },
    {
      "cell_type": "code",
      "metadata": {
        "id": "0cy09lCvgexM",
        "colab_type": "code",
        "colab": {}
      },
      "source": [
        "# External libraries used for\n",
        "# Image IO\n",
        "from PIL import Image\n",
        "\n",
        "# Morphological filtering\n",
        "from skimage.morphology import opening\n",
        "from skimage.morphology import disk\n",
        "\n",
        "# Data handling\n",
        "import numpy as np\n",
        "\n",
        "# Connected component filtering\n",
        "import cv2\n",
        "\n",
        "black = 0\n",
        "white = 255\n",
        "threshold = 160\n",
        "\n",
        "# Open input image in grayscale mode and get its pixels.\n",
        "img = Image.open(\"newImage.jpg\").convert(\"LA\")\n",
        "pixels = np.array(img)[:,:,0]\n",
        "\n",
        "# Remove pixels above threshold\n",
        "pixels[pixels > threshold] = white\n",
        "pixels[pixels < threshold] = black\n",
        "\n",
        "\n",
        "# Morphological opening\n",
        "blobSize = 1 # Select the maximum radius of the blobs you would like to remove\n",
        "structureElement = disk(blobSize)  # you can define different shapes, here we take a disk shape\n",
        "# We need to invert the image such that black is background and white foreground to perform the opening\n",
        "pixels = np.invert(opening(np.invert(pixels), structureElement))\n",
        "\n",
        "\n",
        "# Create and save new image.\n",
        "newImg = Image.fromarray(pixels).convert('RGB')\n",
        "newImg.save(\"newImage1.PNG\")\n",
        "\n",
        "# Find the connected components (black objects in your image)\n",
        "# Because the function searches for white connected components on a black background, we need to invert the image\n",
        "nb_components, output, stats, centroids = cv2.connectedComponentsWithStats(np.invert(pixels), connectivity=8)\n",
        "\n",
        "# For every connected component in your image, you can obtain the number of pixels from the stats variable in the last\n",
        "# column. We remove the first entry from sizes, because this is the entry of the background connected component\n",
        "sizes = stats[1:,-1]\n",
        "nb_components -= 1\n",
        "\n",
        "# Define the minimum size (number of pixels) a component should consist of\n",
        "minimum_size = 100\n",
        "\n",
        "# Create a new image\n",
        "newPixels = np.ones(pixels.shape)*255\n",
        "\n",
        "# Iterate over all components in the image, only keep the components larger than minimum size\n",
        "for i in range(1, nb_components):\n",
        "    if sizes[i] > minimum_size:\n",
        "        newPixels[output == i+1] = 0\n",
        "        \n",
        "        \n",
        "# Create and save new image.\n",
        "newImg = Image.fromarray(newPixels).convert('RGB')\n",
        "newImg.save(\"newImage2.PNG\")"
      ],
      "execution_count": 0,
      "outputs": []
    },
    {
      "cell_type": "code",
      "metadata": {
        "id": "whLF7UJViSXE",
        "colab_type": "code",
        "colab": {
          "base_uri": "https://localhost:8080/",
          "height": 170
        },
        "outputId": "3edd20cb-e0ac-45cf-db52-273c146543fd"
      },
      "source": [
        "from IPython.display import Image\n",
        "Image('newImage1.PNG')"
      ],
      "execution_count": 21,
      "outputs": [
        {
          "output_type": "execute_result",
          "data": {
            "image/png": "[encoded data removed]",
            "text/plain": [
              "<IPython.core.display.Image object>"
            ]
          },
          "metadata": {
            "tags": []
          },
          "execution_count": 21
        }
      ]
    },
    {
      "cell_type": "code",
      "metadata": {
        "id": "c4gXF9k5ibML",
        "colab_type": "code",
        "colab": {
          "base_uri": "https://localhost:8080/",
          "height": 170
        },
        "outputId": "ff379908-4693-40bb-9924-7c83702b9f2d"
      },
      "source": [
        "from IPython.display import Image\n",
        "Image('newImage2.PNG')"
      ],
      "execution_count": 22,
      "outputs": [
        {
          "output_type": "execute_result",
          "data": {
            "image/png": "[encoded data removed]",
            "text/plain": [
              "<IPython.core.display.Image object>"
            ]
          },
          "metadata": {
            "tags": []
          },
          "execution_count": 22
        }
      ]
    }
  ]
}